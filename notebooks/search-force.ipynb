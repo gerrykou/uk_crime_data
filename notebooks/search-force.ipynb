{
 "cells": [
  {
   "cell_type": "code",
   "execution_count": 1,
   "id": "042d54f3",
   "metadata": {},
   "outputs": [
    {
     "name": "stdout",
     "output_type": "stream",
     "text": [
      "/home/gerry/notebooks\r\n"
     ]
    }
   ],
   "source": [
    "!pwd"
   ]
  },
  {
   "cell_type": "code",
   "execution_count": 2,
   "id": "04341591",
   "metadata": {},
   "outputs": [],
   "source": [
    "import pyspark\n",
    "from pyspark.sql import SparkSession"
   ]
  },
  {
   "cell_type": "code",
   "execution_count": 3,
   "id": "bae71e44",
   "metadata": {},
   "outputs": [
    {
     "name": "stderr",
     "output_type": "stream",
     "text": [
      "WARNING: An illegal reflective access operation has occurred\n",
      "WARNING: Illegal reflective access by org.apache.spark.unsafe.Platform (file:/home/gerry/bin/spark-3.0.3-bin-hadoop3.2/jars/spark-unsafe_2.12-3.0.3.jar) to constructor java.nio.DirectByteBuffer(long,int)\n",
      "WARNING: Please consider reporting this to the maintainers of org.apache.spark.unsafe.Platform\n",
      "WARNING: Use --illegal-access=warn to enable warnings of further illegal reflective access operations\n",
      "WARNING: All illegal access operations will be denied in a future release\n",
      "22/03/24 12:12:39 WARN NativeCodeLoader: Unable to load native-hadoop library for your platform... using builtin-java classes where applicable\n",
      "Using Spark's default log4j profile: org/apache/spark/log4j-defaults.properties\n",
      "Setting default log level to \"WARN\".\n",
      "To adjust logging level use sc.setLogLevel(newLevel). For SparkR, use setLogLevel(newLevel).\n"
     ]
    }
   ],
   "source": [
    "FILE = 'metropolitan_2020-12.csv'\n",
    "\n",
    "spark = SparkSession.builder \\\n",
    "    .master(\"local[*]\") \\\n",
    "    .appName('test') \\\n",
    "    .getOrCreate()"
   ]
  },
  {
   "cell_type": "code",
   "execution_count": 4,
   "id": "bcfe2170",
   "metadata": {},
   "outputs": [],
   "source": [
    "df = spark.read \\\n",
    "    .option(\"header\", \"true\") \\\n",
    "    .csv(FILE)"
   ]
  },
  {
   "cell_type": "code",
   "execution_count": 5,
   "id": "b32bb4aa",
   "metadata": {},
   "outputs": [
    {
     "name": "stdout",
     "output_type": "stream",
     "text": [
      "+---------+--------------------+---------------+----------------------+------+--------------------+----------------------------------+--------------------+-----------------------------------+--------------------+--------------------+--------------------+-------------------------+--------------------+--------------------+--------------------+\n",
      "|age_range|             outcome|involved_person|self_defined_ethnicity|gender|         legislation|outcome_linked_to_object_of_search|            datetime|removal_of_more_than_outer_clothing|      outcome_object|            location|           operation|officer_defined_ethnicity|                type|      operation_name|    object_of_search|\n",
      "+---------+--------------------+---------------+----------------------+------+--------------------+----------------------------------+--------------------+-----------------------------------+--------------------+--------------------+--------------------+-------------------------+--------------------+--------------------+--------------------+\n",
      "|    18-24|A no further acti...|           True|  Asian/Asian Briti...|  Male|Misuse of Drugs A...|                              null|2020-12-01T19:50:...|                               null|{'id': 'bu-no-fur...|                null|               False|                    Asian|       Person search|                null|    Controlled drugs|\n",
      "|     null|A no further acti...|           True|  Other ethnic grou...|  Male|Misuse of Drugs A...|                              null|2020-12-04T03:08:...|                               null|{'id': 'bu-no-fur...|{'latitude': '51....|               False|                    Black|       Person search|                null|    Controlled drugs|\n",
      "|     null|A no further acti...|           True|  Black/African/Car...|  Male|Misuse of Drugs A...|                              null|2020-12-04T03:20:...|                               null|{'id': 'bu-no-fur...|\"{'latitude': '51...| 'longitude': '-0...|                    False|               Black|Person and Vehicl...|                null|\n",
      "|  over 34|Community resolution|           True|  Other ethnic grou...|  Male|Police and Crimin...|                              null|2020-12-04T01:00:...|                               null|{'id': 'bu-commun...|{'latitude': '51....|               False|                    Other|       Person search|                null|Evidence of offen...|\n",
      "|    25-34|A no further acti...|           True|  Black/African/Car...|  Male|Misuse of Drugs A...|                              null|2020-12-03T22:00:...|                               null|{'id': 'bu-no-fur...|{'latitude': '51....|               False|                    Black|Person and Vehicl...|                null|    Controlled drugs|\n",
      "|    18-24|A no further acti...|           True|  Asian/Asian Briti...|  Male|Misuse of Drugs A...|                              null|2020-12-04T03:07:...|                               null|{'id': 'bu-no-fur...|\"{'latitude': '51...| 'longitude': '-0...|                    False|               Other|Person and Vehicl...|                null|\n",
      "|    10-17|A no further acti...|           True|  White - English/W...|  Male|Misuse of Drugs A...|                              null|2020-12-03T21:20:...|                               null|{'id': 'bu-no-fur...|{'latitude': '51....|               False|                    White|       Person search|                null|    Controlled drugs|\n",
      "|  over 34|Community resolution|           True|  White - English/W...|  Male|Misuse of Drugs A...|                              null|2020-12-03T21:55:...|                               null|{'id': 'bu-commun...|{'latitude': '51....|               False|                    White|       Person search|                null|    Controlled drugs|\n",
      "|     null|Summons / charged...|           True|  Black/African/Car...|  Male|Misuse of Drugs A...|                              null|2020-12-03T22:45:...|                               null|{'id': 'bu-summon...|{'latitude': '51....|               False|                    Black|Person and Vehicl...|                null|    Controlled drugs|\n",
      "|    25-34|A no further acti...|           True|  Asian/Asian Briti...|  Male|Police and Crimin...|                              null|2020-12-04T15:46:...|                               null|{'id': 'bu-no-fur...|                null|               False|                    Asian|Person and Vehicl...|                null|   Offensive weapons|\n",
      "|  over 34|A no further acti...|           True|  Other ethnic grou...|  Male|Misuse of Drugs A...|                              null|2020-12-04T13:15:...|                               null|{'id': 'bu-no-fur...|{'latitude': '51....|               False|                    Other|Person and Vehicl...|                null|    Controlled drugs|\n",
      "|  over 34|A no further acti...|           True|  Other ethnic grou...|  Male|Misuse of Drugs A...|                              null|2020-12-04T12:13:...|                               null|{'id': 'bu-no-fur...|{'latitude': '51....|               False|                    Other|       Person search|                null|    Controlled drugs|\n",
      "|     null|A no further acti...|          False|                  null|  null|Misuse of Drugs A...|                              null|2020-12-03T22:45:...|                               null|{'id': 'bu-no-fur...|{'latitude': '51....|               False|                     null|      Vehicle search|                null|    Controlled drugs|\n",
      "|    10-17|A no further acti...|           True|  Asian/Asian Briti...|  Male|Police and Crimin...|                              null|2020-12-04T15:47:...|                               null|{'id': 'bu-no-fur...|{'latitude': '51....|               False|                    Asian|       Person search|                null|   Offensive weapons|\n",
      "|  over 34|A no further acti...|           True|  Black/African/Car...|  Male|Misuse of Drugs A...|                              null|2020-12-04T15:32:...|                               null|{'id': 'bu-no-fur...|{'latitude': '51....|               False|                    Black|       Person search|                null|    Controlled drugs|\n",
      "|    18-24|A no further acti...|           True|  Other ethnic grou...|  Male|Police and Crimin...|                              null|2020-12-04T16:00:...|                               null|{'id': 'bu-no-fur...|{'latitude': '51....|               False|                    Other|       Person search|                null|        Stolen goods|\n",
      "|  over 34|A no further acti...|           True|  Mixed/Multiple et...|  Male|Misuse of Drugs A...|                              null|2020-12-04T16:25:...|                               null|{'id': 'bu-no-fur...|{'latitude': '51....|               False|                    White|       Person search|                null|    Controlled drugs|\n",
      "|    18-24|A no further acti...|           True|  Other ethnic grou...|  Male|Police and Crimin...|                              null|2020-12-04T16:35:...|                               null|{'id': 'bu-no-fur...|{'latitude': '51....|               False|                    Other|       Person search|                null|        Stolen goods|\n",
      "|    10-17|A no further acti...|           True|  Other ethnic grou...|  Male|Police and Crimin...|                              null|2020-12-04T16:35:...|                               null|{'id': 'bu-no-fur...|{'latitude': '51....|               False|                    Other|       Person search|                null|Evidence of offen...|\n",
      "|    10-17|A no further acti...|           True|  White - English/W...|  Male|Misuse of Drugs A...|                              null|2020-12-03T21:20:...|                               null|{'id': 'bu-no-fur...|{'latitude': '51....|               False|                    White|       Person search|                null|    Controlled drugs|\n",
      "+---------+--------------------+---------------+----------------------+------+--------------------+----------------------------------+--------------------+-----------------------------------+--------------------+--------------------+--------------------+-------------------------+--------------------+--------------------+--------------------+\n",
      "only showing top 20 rows\n",
      "\n"
     ]
    }
   ],
   "source": [
    "df.show()"
   ]
  },
  {
   "cell_type": "code",
   "execution_count": 6,
   "id": "02a7dec3",
   "metadata": {},
   "outputs": [
    {
     "name": "stdout",
     "output_type": "stream",
     "text": [
      "root\n",
      " |-- age_range: string (nullable = true)\n",
      " |-- outcome: string (nullable = true)\n",
      " |-- involved_person: string (nullable = true)\n",
      " |-- self_defined_ethnicity: string (nullable = true)\n",
      " |-- gender: string (nullable = true)\n",
      " |-- legislation: string (nullable = true)\n",
      " |-- outcome_linked_to_object_of_search: string (nullable = true)\n",
      " |-- datetime: string (nullable = true)\n",
      " |-- removal_of_more_than_outer_clothing: string (nullable = true)\n",
      " |-- outcome_object: string (nullable = true)\n",
      " |-- location: string (nullable = true)\n",
      " |-- operation: string (nullable = true)\n",
      " |-- officer_defined_ethnicity: string (nullable = true)\n",
      " |-- type: string (nullable = true)\n",
      " |-- operation_name: string (nullable = true)\n",
      " |-- object_of_search: string (nullable = true)\n",
      "\n"
     ]
    }
   ],
   "source": [
    "df.printSchema()"
   ]
  },
  {
   "cell_type": "code",
   "execution_count": 7,
   "id": "43c593b3",
   "metadata": {},
   "outputs": [
    {
     "data": {
      "text/plain": [
       "StructType(List(StructField(age_range,StringType,true),StructField(outcome,StringType,true),StructField(involved_person,StringType,true),StructField(self_defined_ethnicity,StringType,true),StructField(gender,StringType,true),StructField(legislation,StringType,true),StructField(outcome_linked_to_object_of_search,StringType,true),StructField(datetime,StringType,true),StructField(removal_of_more_than_outer_clothing,StringType,true),StructField(outcome_object,StringType,true),StructField(location,StringType,true),StructField(operation,StringType,true),StructField(officer_defined_ethnicity,StringType,true),StructField(type,StringType,true),StructField(operation_name,StringType,true),StructField(object_of_search,StringType,true)))"
      ]
     },
     "execution_count": 7,
     "metadata": {},
     "output_type": "execute_result"
    }
   ],
   "source": [
    "df.schema"
   ]
  },
  {
   "cell_type": "code",
   "execution_count": null,
   "id": "00c55b24",
   "metadata": {},
   "outputs": [],
   "source": []
  }
 ],
 "metadata": {
  "kernelspec": {
   "display_name": "Python 3 (ipykernel)",
   "language": "python",
   "name": "python3"
  },
  "language_info": {
   "codemirror_mode": {
    "name": "ipython",
    "version": 3
   },
   "file_extension": ".py",
   "mimetype": "text/x-python",
   "name": "python",
   "nbconvert_exporter": "python",
   "pygments_lexer": "ipython3",
   "version": "3.9.7"
  }
 },
 "nbformat": 4,
 "nbformat_minor": 5
}
